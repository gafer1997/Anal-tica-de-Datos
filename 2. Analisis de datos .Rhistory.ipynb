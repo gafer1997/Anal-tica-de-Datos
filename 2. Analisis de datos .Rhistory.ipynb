{
 "cells": [
  {
   "cell_type": "markdown",
   "metadata": {},
   "source": [
    "library(readxl) X_proyecto_final\\_ \\<- read_excel(“Escenarios para los\n",
    "negocios/proyecto final/Datos de comercio electronico perfumes dama 2024\n",
    ".xlsx”) View(X_proyecto_final\\_) data(X_proyecto_final\\_)\n",
    "library(readxl) Datos_de_comercio_electronico_perfumes_dama_2024\\_ \\<-\n",
    "read_excel(“Escenarios para los negocios/proyecto final/Datos de\n",
    "comercio electronico perfumes dama 2024 .xlsx”)\n",
    "View(Datos_de_comercio_electronico_perfumes_dama_2024\\_)\n",
    "print(Datos_de_comercio_electronico_perfumes_dama_2024\\_)\n",
    "str(Datos_de_comercio_electronico_perfumes_dama_2024\\_)\n",
    "head(Datos_de_comercio_electronico_perfumes_dama_2024\\_)\n",
    "tail(Datos_de_comercio_electronico_perfumes_dama_2024\\_)\n",
    "summary(Datos_de_comercio_electronico_perfumes_dama_2024\\_)\n",
    "attach(Datos_de_comercio_electronico_perfumes_dama_2024\\_)\n",
    "summary(Datos_de_comercio_electronico_perfumes_dama_2024\\_)\n",
    "savehistory(“\\~/Escenarios para los negocios/proyecto final/Analisis de\n",
    "datos Andrea Dealtan.Rhistory”)"
   ],
   "id": "42a14256-91c8-446e-92a7-ab6bf11055d3"
  }
 ],
 "nbformat": 4,
 "nbformat_minor": 5,
 "metadata": {}
}
